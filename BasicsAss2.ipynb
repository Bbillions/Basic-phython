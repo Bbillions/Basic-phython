{
 "cells": [
  {
   "cell_type": "code",
   "execution_count": 8,
   "metadata": {},
   "outputs": [
    {
     "name": "stdout",
     "output_type": "stream",
     "text": [
      "List completed\n",
      "4\n"
     ]
    }
   ],
   "source": [
    "#write a program that takes a list of integers as input and returns the sum of all integers in the list\n",
    "sumlist = []\n",
    "Total = 0\n",
    "\n",
    "while True:\n",
    "    sumnumber = input(\"Enter a number or 'none number value' to cancel:  \")\n",
    "    try:\n",
    "        sumnumber = int(sumnumber)\n",
    "        sumlist.append(sumnumber)\n",
    "    except:\n",
    "        print('List completed')\n",
    "        break\n",
    "\n",
    "\n",
    "for i in sumlist:\n",
    "    Total += i\n",
    "print(Total)"
   ]
  },
  {
   "cell_type": "code",
   "execution_count": 6,
   "metadata": {},
   "outputs": [
    {
     "name": "stdout",
     "output_type": "stream",
     "text": [
      "List completed\n",
      "5.0\n"
     ]
    }
   ],
   "source": [
    "#write a program that takes a list of integers as input and returns the average of all the integers in the list\n",
    "\n",
    "avglist = []\n",
    "Total = 0\n",
    "\n",
    "while True:\n",
    "    avgnumber = input(\"Enter a number or 'none number value' to cancel:  \")\n",
    "    try:\n",
    "        avgnumber = int(avgnumber)\n",
    "        avglist.append(avgnumber)\n",
    "    except:\n",
    "        print('List completed')\n",
    "        break\n",
    "\n",
    "for i in avglist:\n",
    "    Total += i\n",
    "average = (Total/len(avglist))\n",
    "print(average)\n"
   ]
  },
  {
   "cell_type": "code",
   "execution_count": 6,
   "metadata": {},
   "outputs": [
    {
     "name": "stdout",
     "output_type": "stream",
     "text": [
      "4\n"
     ]
    }
   ],
   "source": [
    "#write a function that takes a string as input and returns the length of the string\n",
    "def strcount():\n",
    "    names = str(input('Enter your name here: '))\n",
    "    len1 = len(names)\n",
    "\n",
    "    print(len1)\n",
    "strcount()"
   ]
  },
  {
   "cell_type": "code",
   "execution_count": 8,
   "metadata": {},
   "outputs": [
    {
     "name": "stdout",
     "output_type": "stream",
     "text": [
      "List Completed\n",
      "9\n"
     ]
    }
   ],
   "source": [
    "#write a function that takes a list of integers as input and returns the maximum value in the list\n",
    "\n",
    "maxlist = []\n",
    "\n",
    "while True:\n",
    "    maxnumber = input(\"Enter a number or 'none number value' to cancel:  \")\n",
    "    try:\n",
    "        maxnumber = int(maxnumber)\n",
    "        maxlist.append(maxnumber)\n",
    "    except:\n",
    "        print('List Completed')\n",
    "        break\n",
    "\n",
    "\n",
    "\n",
    "print(max(maxlist))\n",
    "    \n",
    "\n",
    "\n",
    "\n",
    "        "
   ]
  },
  {
   "cell_type": "code",
   "execution_count": 4,
   "metadata": {},
   "outputs": [
    {
     "name": "stdout",
     "output_type": "stream",
     "text": [
      "The combined list is [2, 3]\n"
     ]
    }
   ],
   "source": [
    "#write a program that takes two lists of integers as input and returns a new list that contains the intersection of the two\n",
    "#lists(i.e the elements that are present in both lists)\n",
    "\n",
    "def Add2list():\n",
    "    list1 = [1,2,3]\n",
    "    list2 = [2,5,3]\n",
    "    combined = [value for value in list1 if value in list2]\n",
    "\n",
    "    print(f'The combined list is {combined}')\n",
    "\n",
    "Add2list()\n",
    "\n",
    "\n"
   ]
  },
  {
   "cell_type": "code",
   "execution_count": null,
   "metadata": {},
   "outputs": [],
   "source": [
    "#write a program that takes a list of integers as input and returns a new list that contains the squares of all the integers\n",
    "#in the original list\n",
    "\n",
    "intList = []\n",
    "\n",
    "while True:\n",
    "    inputNumber = input(\"Enter a number or 'none number value' to cancel: \")\n",
    "    try:\n",
    "        # print(inputNumber)\n",
    "        inputNumber = int(inputNumber)\n",
    "        intList.append(inputNumber)\n",
    "    except:\n",
    "        print('List completed')\n",
    "        break\n",
    "\n",
    "\n",
    "newList = []\n",
    "\n",
    "for i in intList:\n",
    "    newList.append(i**2)\n",
    "    # pass\n",
    "   \n",
    "\n",
    "newList"
   ]
  },
  {
   "cell_type": "code",
   "execution_count": 13,
   "metadata": {},
   "outputs": [
    {
     "name": "stdout",
     "output_type": "stream",
     "text": [
      "The sum of your numbers is 17\n"
     ]
    }
   ],
   "source": [
    "#write a function that takes two integers as input and returns the sum of the two integers\n",
    "\n",
    "def add():\n",
    "    num1 = int(input('Enter num1: '))\n",
    "    num2 = int(input('Enter num1: '))\n",
    "\n",
    "    Result = num1 + num2\n",
    "    \n",
    "   \n",
    "    print(f'The sum of your numbers is {Result}')\n",
    "\n",
    "add()"
   ]
  },
  {
   "cell_type": "code",
   "execution_count": 15,
   "metadata": {},
   "outputs": [
    {
     "name": "stdout",
     "output_type": "stream",
     "text": [
      "List done\n"
     ]
    },
    {
     "data": {
      "text/plain": [
       "63"
      ]
     },
     "execution_count": 15,
     "metadata": {},
     "output_type": "execute_result"
    }
   ],
   "source": [
    "#write a program that takes a list of integers as input and returns the product of all the integers in the list\n",
    "\n",
    "pdlist = []\n",
    "multnumber = 1\n",
    "while True:\n",
    "    pdnumber = input(\"Enter a number or 'none number value' to cancel: \")\n",
    "    try:\n",
    "        pdnumber = int(pdnumber) \n",
    "        multnumber = multnumber * pdnumber\n",
    "    except:\n",
    "        print('List done')\n",
    "        break\n",
    "\n",
    "    \n",
    "\n",
    "multnumber"
   ]
  },
  {
   "cell_type": "code",
   "execution_count": 18,
   "metadata": {},
   "outputs": [
    {
     "name": "stdout",
     "output_type": "stream",
     "text": [
      "List Completed\n"
     ]
    },
    {
     "data": {
      "text/plain": [
       "[6, 8]"
      ]
     },
     "execution_count": 18,
     "metadata": {},
     "output_type": "execute_result"
    }
   ],
   "source": [
    "#write a program dat takes a list of integers as input and returns a new list that contains only the even integers from the list\n",
    "\n",
    "evenlist = []\n",
    "\n",
    "while True: \n",
    "    evennumber = input(\"Enter a number or 'none number value' to cancel:  \")\n",
    "    try:\n",
    "        evennumber = int(evennumber)\n",
    "        if evennumber %2 == 0:\n",
    "            evenlist.append(evennumber)\n",
    "    except:\n",
    "        print('List Completed')\n",
    "        break\n",
    "\n",
    "\n",
    "   \n",
    "evenlist"
   ]
  },
  {
   "cell_type": "code",
   "execution_count": null,
   "metadata": {},
   "outputs": [],
   "source": [
    "#write a program that takes a list of strings as input and returns a new list that contains only the strings that start with\n",
    "#letter a\n",
    "\n",
    "strlist = []\n",
    "\n",
    "while True:\n",
    "    strings = input(\"Enter your names or 'enter stop' to cancel: \")\n",
    "    if strings.lower() == 'stop':\n",
    "        break\n",
    "    else:\n",
    "        strlist.append(strings)\n",
    "    \n",
    "newstrings = []\n",
    "for item in strlist:\n",
    "    if item[0] == \"A\":\n",
    "        newstrings.append(item)\n",
    "\n",
    "newstrings"
   ]
  }
 ],
 "metadata": {
  "kernelspec": {
   "display_name": "Python 3",
   "language": "python",
   "name": "python3"
  },
  "language_info": {
   "codemirror_mode": {
    "name": "ipython",
    "version": 3
   },
   "file_extension": ".py",
   "mimetype": "text/x-python",
   "name": "python",
   "nbconvert_exporter": "python",
   "pygments_lexer": "ipython3",
   "version": "3.12.3"
  }
 },
 "nbformat": 4,
 "nbformat_minor": 2
}
